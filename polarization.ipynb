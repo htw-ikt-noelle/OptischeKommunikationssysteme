{
 "cells": [
  {
   "attachments": {
    "exponential_signals.ipynb": {
     "stream": "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"
    }
   },
   "cell_type": "markdown",
   "metadata": {},
   "source": [
    "# Demonstration of the principles of polarization\n",
    "\n",
    "This demo is supposed to visualize the principles of [polarization](https://en.wikipedia.org/wiki/Polarization_(waves)) of [electromagnetic waves](https://en.wikipedia.org/wiki/Electromagnetic_radiation). \n",
    "\n",
    "This demo is written by [Markus Nölle](https://www.htw-berlin.de/hochschule/personen/person/?eid=9586) for a basic course on optical communications hold at the [university of applied siences, Berlin](https://www.htw-berlin.de/)."
   ]
  },
  {
   "cell_type": "markdown",
   "metadata": {},
   "source": [
    "## Import libararies"
   ]
  },
  {
   "cell_type": "code",
   "execution_count": 1,
   "metadata": {},
   "outputs": [],
   "source": [
    "import matplotlib.pyplot as plt\n",
    "import numpy as np\n",
    "import ipywidgets as widgets\n",
    "\n",
    "plt.style.use('noelle.mplstyle')"
   ]
  },
  {
   "cell_type": "markdown",
   "metadata": {},
   "source": [
    "## ???\n",
    "\n",
    "???"
   ]
  },
  {
   "cell_type": "code",
   "execution_count": 2,
   "metadata": {},
   "outputs": [],
   "source": [
    "def plot_signal(a_x=1, a_y=0, d_phi=0):\n",
    "    \n",
    "    # parameters\n",
    "    n = 2**8; # number of points\n",
    "    sample_rate = n # sample rate\n",
    "    beta = 3 * np.pi * 2\n",
    "\n",
    "    # derived params\n",
    "    # df = sampleRate/nt;% frequency spacing\n",
    "    z = np.arange(0, 1, 1/sample_rate) # time vector\n",
    "    # f = createFreqAxis(sampleRate, nt);\n",
    "\n",
    "    # X component\n",
    "    sig_x = a_x * np.cos(beta * z)\n",
    "    # Y component\n",
    "    sig_y = a_y * np.cos(beta * z - d_phi)\n",
    "    \n",
    "    n_row = 1\n",
    "    n_col = 3\n",
    "    fig_size = [i*j for i,j in zip(plt.rcParams['figure.figsize'], [n_col, n_row])]\n",
    "    fig = plt.figure(figsize=fig_size)\n",
    "    \n",
    "    ax = fig.add_subplot(n_row, n_col, 1)\n",
    "    ax.plot(z, sig_x)\n",
    "    ax.plot(z, sig_y)\n",
    "    ax.set(xlabel='transmission distance (z) / m', ylabel=r'amplitude $a_x/a_y$')\n",
    "    \n",
    "    ax = fig.add_subplot(n_row, n_col, 2)\n",
    "    ax.plot(sig_x, sig_y, 'k')\n",
    "    ax.set(xlabel=r'amplitude $a_x$', ylabel=r'amplitude $a_y$', xlim=(-1.0, 1.0), ylim=(-1.0, 1.0))\n",
    "    \n",
    "    \n",
    "    ax = fig.add_subplot(n_row, n_col, 3, projection='3d')\n",
    "    ax.plot(sig_x, z, np.zeros_like(sig_x), 'C0')\n",
    "    ax.plot(np.zeros_like(sig_y), z, sig_y, 'C1')\n",
    "    ax.plot(sig_x, z, sig_y, 'k')\n",
    "    ax.set(xlabel=r'$a_x$', ylabel='z', zlabel=r'$a_y$', xlim=(-1.0, 1.0), ylim=(-1.0, 1.0), zlim=(-1.0, 1.0))\n",
    "    \n",
    "    plt.tight_layout()\n",
    "    \n",
    "    "
   ]
  },
  {
   "cell_type": "code",
   "execution_count": 3,
   "metadata": {},
   "outputs": [
    {
     "data": {
      "application/vnd.jupyter.widget-view+json": {
       "model_id": "efdab8663335402ea2e6fa00105fbee2",
       "version_major": 2,
       "version_minor": 0
      },
      "text/plain": [
       "HBox(children=(FloatSlider(value=1.0, continuous_update=False, description='$a_x$:', max=1.0), FloatSlider(val…"
      ]
     },
     "metadata": {},
     "output_type": "display_data"
    },
    {
     "data": {
      "application/vnd.jupyter.widget-view+json": {
       "model_id": "3afe5c218a194889b8ab518ecfab7a2d",
       "version_major": 2,
       "version_minor": 0
      },
      "text/plain": [
       "Output(layout=Layout(height='600px'))"
      ]
     },
     "metadata": {},
     "output_type": "display_data"
    }
   ],
   "source": [
    "w_a_x = widgets.FloatSlider(min=0.0, max=1, step=0.1, value=1.0, continuous_update=False, description=r'$a_x$:')\n",
    "w_a_y = widgets.FloatSlider(min=0.0, max=1, step=0.1, value=0.0, continuous_update=False, description=r'$a_y$:')\n",
    "w_d_phi = widgets.FloatSlider(min=0.0, max=np.pi, step=np.pi/30, value=0.0, continuous_update=False, description=r'$\\Delta \\phi$:')\n",
    "\n",
    "ui = widgets.HBox([w_a_x, w_a_y, w_d_phi])\n",
    "\n",
    "out = widgets.interactive_output(plot_signal, {'a_x':w_a_x, 'a_y':w_a_y, 'd_phi':w_d_phi})\n",
    "out.layout.height = '600px'\n",
    "\n",
    "display(ui, out)"
   ]
  },
  {
   "cell_type": "code",
   "execution_count": null,
   "metadata": {},
   "outputs": [],
   "source": []
  }
 ],
 "metadata": {
  "kernelspec": {
   "display_name": "Python 3",
   "language": "python",
   "name": "python3"
  },
  "language_info": {
   "codemirror_mode": {
    "name": "ipython",
    "version": 3
   },
   "file_extension": ".py",
   "mimetype": "text/x-python",
   "name": "python",
   "nbconvert_exporter": "python",
   "pygments_lexer": "ipython3",
   "version": "3.7.6"
  }
 },
 "nbformat": 4,
 "nbformat_minor": 4
}
