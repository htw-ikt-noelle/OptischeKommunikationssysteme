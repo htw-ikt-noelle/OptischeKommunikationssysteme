{
 "cells": [
  {
   "cell_type": "markdown",
   "metadata": {},
   "source": [
    "# Demonstration of the principles of polarization\n",
    "\n",
    "This demo is supposed to visualize the principles of [polarization](https://en.wikipedia.org/wiki/Polarization_(waves)) of [electromagnetic waves](https://en.wikipedia.org/wiki/Electromagnetic_radiation). \n",
    "\n",
    "This demo is written by [Markus Nölle](https://www.htw-berlin.de/hochschule/personen/person/?eid=9586) for a basic course on optical communications hold at the [university of applied siences, Berlin](https://www.htw-berlin.de/)."
   ]
  },
  {
   "cell_type": "markdown",
   "metadata": {
    "jupyter": {
     "source_hidden": true
    }
   },
   "source": [
    "## Import libararies"
   ]
  },
  {
   "cell_type": "code",
   "execution_count": 57,
   "metadata": {},
   "outputs": [],
   "source": [
    "import matplotlib.pyplot as plt\n",
    "#import matplotlib.gridspec as gridspec\n",
    "import numpy as np\n",
    "import ipywidgets as widgets\n",
    "\n",
    "#plt.style.use('noelle.mplstyle')"
   ]
  },
  {
   "cell_type": "markdown",
   "metadata": {},
   "source": [
    "## ???\n",
    "![](https://upload.wikimedia.org/wikipedia/commons/4/41/Rising_circular.gif)\n",
    "???"
   ]
  },
  {
   "cell_type": "code",
   "execution_count": 82,
   "metadata": {},
   "outputs": [],
   "source": [
    "def plot_signal(a_x=1, a_y=0, d_phi=0):\n",
    "    \n",
    "    # parameters\n",
    "    d_phi = d_phi*np.pi # denormalize from ΔΦ/π to ΔΦ\n",
    "    n = 2**8; # number of points\n",
    "    sample_rate = n # sample rate\n",
    "    beta = 1.5 * np.pi * 2\n",
    "\n",
    "    # derived params\n",
    "    # df = sampleRate/nt;% frequency spacing\n",
    "    z = np.arange(0, 1, 1/sample_rate) # time vector\n",
    "    # f = createFreqAxis(sampleRate, nt);\n",
    "\n",
    "    # X component\n",
    "    sig_x = a_x * np.cos(beta * z)\n",
    "    # Y component\n",
    "    sig_y = a_y * np.cos(beta * z - d_phi)\n",
    "    \n",
    "    n_row = 2\n",
    "    n_col = 2\n",
    "    fig_size = [i*j for i,j in zip(plt.rcParams['figure.figsize'], [n_col, n_row])]\n",
    "    #fig_size =\n",
    "    fig = plt.figure(figsize=fig_size)\n",
    "    \n",
    "    #ax = fig.add_subplot(n_row, n_col, 1)\n",
    "    ax = fig.add_subplot(2, 2, 1)\n",
    "    ax.plot(z, sig_x)\n",
    "    ax.plot(z, sig_y,'--')\n",
    "    ax.set(xlabel='transmission distance z/$\\lambda$', ylabel=r'amplitude $a_x/a_y$')\n",
    "    ax.legend(('x-wave', 'y-wave'))\n",
    "    \n",
    "    #ax = fig.add_subplot(n_row, n_col, 2)\n",
    "    ax = fig.add_subplot(2, 2, 3)\n",
    "    ax.plot(sig_x, sig_y, 'k')\n",
    "    ax.set_aspect('equal', 'box')\n",
    "    #ax.set(xlabel=r'amplitude $a_x$', ylabel=r'amplitude $a_y$' , xlim=(-1.0, 1.0), ylim=(-1.0, 1.0))\n",
    "    #ax.axis([i*1.2 for i in [-1,1,-1,1]])\n",
    "    ax.axis(list(np.array([-1,1,-1,1])*1.2))\n",
    "    ax.set(xlabel=r'amplitude $a_x$', ylabel=r'amplitude $a_y$' )\n",
    "    \n",
    "    #ax = fig.add_subplot(n_row, n_col, 3, projection='3d')\n",
    "    gs_kw = dict(width_ratios=[2], height_ratios=[2])\n",
    "    \n",
    "    ax = fig.add_subplot(1, 2, 2, projection='3d')\n",
    "    ax.plot(sig_x, z, -1.1+np.zeros_like(sig_x), 'C0') # https://stackoverflow.com/questions/34981479/rotating-the-z-axis-in-matplotlib-3d-figure\n",
    "    ax.plot(1.4+np.zeros_like(sig_y), z, sig_y, 'C1')\n",
    "    ax.plot(sig_x, np.zeros_like(z)-0.2, sig_y, 'k') # polarization ellipse\n",
    "    ax.plot(np.zeros_like(z), z, np.zeros_like(z),':k') # zero-XY axis\n",
    "    ax.plot(sig_x, z, sig_y, color='#008000') # Ex-Ey field trajectory\n",
    "    #ax.set(xlabel=r'$a_x$', ylabel='z', zlabel=r'$a_y$', xlim=(1.4, -1.4), ylim=(-0.15, 1.0), zlim=(-1.1, 1.1))\n",
    "    ax.set(xlabel=r'$a_x$', ylabel='z', zlabel=r'$a_y$', xlim=(1.4, -1.4), ylim=(-0.15, 1.0), zlim=(-1.1, 1.1))\n",
    "    ax.axes.get_xaxis().set_ticks([]), ax.axes.get_zaxis().set_ticks([]) # https://stackoverflow.com/questions/2176424/hiding-axis-text-in-matplotlib-plots\n",
    "    #ax.set_aspect('equal','box')\n",
    "    #plt.axis('square')\n",
    "    ax.view_init(22,45) #https://matplotlib.org/gallery/mplot3d/rotate_axes3d.html\n",
    "    #ax.\n",
    "    \n",
    "    plt.tight_layout()"
   ]
  },
  {
   "cell_type": "code",
   "execution_count": 83,
   "metadata": {},
   "outputs": [],
   "source": [
    "#plt.rcParams\n",
    "#l = [i+idx  for idx, i in enumerate([4,5,6]) if i >=2], print(l)\n",
    "#gs_kw = dict(width_ratios=[2], height_ratios=[2]), print(gs_kw)"
   ]
  },
  {
   "cell_type": "code",
   "execution_count": 91,
   "metadata": {},
   "outputs": [
    {
     "data": {
      "application/vnd.jupyter.widget-view+json": {
       "model_id": "e054e380e8d241c198fd1ced1bbabb9f",
       "version_major": 2,
       "version_minor": 0
      },
      "text/plain": [
       "HBox(children=(FloatSlider(value=1.0, continuous_update=False, description='$a_x$:', max=1.0), FloatSlider(val…"
      ]
     },
     "metadata": {},
     "output_type": "display_data"
    },
    {
     "data": {
      "application/vnd.jupyter.widget-view+json": {
       "model_id": "e810742aa05640809d54e8e83ad233f2",
       "version_major": 2,
       "version_minor": 0
      },
      "text/plain": [
       "Output(layout=Layout(height='600px'))"
      ]
     },
     "metadata": {},
     "output_type": "display_data"
    }
   ],
   "source": [
    "w_a_x = widgets.FloatSlider(min=0.0, max=1, step=0.1, value=1.0, continuous_update=False, description=r'$a_x$:') # https://ipywidgets.readthedocs.io/en/latest/examples/Widget%20List.html\n",
    "w_a_y = widgets.FloatSlider(min=0.0, max=1, step=0.1, value=1.0, continuous_update=False, description=r'$a_y$:')\n",
    "#'w_d_phi = widgets.FloatSlider(min=0.0, max=np.pi, step=np.pi/30, value=0.0, continuous_update=True, description=r'$\\Delta \\phi$:')\n",
    "w_d_phi = widgets.FloatSlider(min=0.0, max=2.0, step=1/40, value=0.5, continuous_update=True, description=r'$\\Delta\\phi/\\pi$:')\n",
    "\n",
    "ui = widgets.HBox([w_a_x, w_a_y, w_d_phi])\n",
    "\n",
    "out = widgets.interactive_output(plot_signal, {'a_x':w_a_x, 'a_y':w_a_y, 'd_phi':w_d_phi})\n",
    "out.layout.height = '600px'\n",
    "\n",
    "display(ui, out)"
   ]
  },
  {
   "cell_type": "code",
   "execution_count": null,
   "metadata": {},
   "outputs": [],
   "source": []
  }
 ],
 "metadata": {
  "kernelspec": {
   "display_name": "Python 3",
   "language": "python",
   "name": "python3"
  },
  "language_info": {
   "codemirror_mode": {
    "name": "ipython",
    "version": 3
   },
   "file_extension": ".py",
   "mimetype": "text/x-python",
   "name": "python",
   "nbconvert_exporter": "python",
   "pygments_lexer": "ipython3",
   "version": "3.7.6"
  }
 },
 "nbformat": 4,
 "nbformat_minor": 4
}
