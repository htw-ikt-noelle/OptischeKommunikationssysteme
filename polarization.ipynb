{
 "cells": [
  {
   "cell_type": "markdown",
   "metadata": {},
   "source": [
    "# Demonstration of the principles of polarization\n",
    "\n",
    "This demo is supposed to visualize the principles of [polarization](https://en.wikipedia.org/wiki/Polarization_(waves)) of [electromagnetic waves](https://en.wikipedia.org/wiki/Electromagnetic_radiation). \n",
    "\n",
    "This demo is written by [Markus Nölle](https://www.htw-berlin.de/hochschule/personen/person/?eid=9586) for a basic course on optical communications hold at the [university of applied sciences, Berlin](https://www.htw-berlin.de/)."
   ]
  },
  {
   "cell_type": "markdown",
   "metadata": {},
   "source": [
    "## Import libararies"
   ]
  },
  {
   "cell_type": "code",
   "execution_count": 1,
   "metadata": {},
   "outputs": [],
   "source": [
    "import matplotlib.pyplot as plt\n",
    "import numpy as np\n",
    "import ipywidgets as widgets\n",
    "\n",
    "plt.style.use('noelle.mplstyle')"
   ]
  },
  {
   "cell_type": "markdown",
   "metadata": {},
   "source": [
    "## ???\n",
    "\n",
    "???"
   ]
  },
  {
   "cell_type": "code",
   "execution_count": 2,
   "metadata": {},
   "outputs": [],
   "source": [
    "def plot_signal(a_x=1, a_y=0, d_phi=0):\n",
    "    \n",
    "    # parameters\n",
    "    n = 2**8; # number of points\n",
    "    sample_rate = n # sample rate\n",
    "    beta = 3 * np.pi * 2\n",
    "\n",
    "    # derived params\n",
    "    # df = sampleRate/nt;% frequency spacing\n",
    "    z = np.arange(0, 1, 1/sample_rate) # time vector\n",
    "    # f = createFreqAxis(sampleRate, nt);\n",
    "\n",
    "    # X component\n",
    "    sig_x = a_x * np.cos(beta * z)\n",
    "    # Y component\n",
    "    sig_y = a_y * np.cos(beta * z - d_phi)\n",
    "    \n",
    "    n_row = 1\n",
    "    n_col = 3\n",
    "    fig_size = [i*j for i,j in zip(plt.rcParams['figure.figsize'], [n_col, n_row])]\n",
    "    fig = plt.figure(figsize=fig_size)\n",
    "    \n",
    "    ax = fig.add_subplot(n_row, n_col, 1)\n",
    "    ax.plot(z, sig_x)\n",
    "    ax.plot(z, sig_y)\n",
    "    ax.set(xlabel='transmission distance (z) / m', ylabel=r'amplitude $a_x/a_y$')\n",
    "    \n",
    "    ax = fig.add_subplot(n_row, n_col, 2)\n",
    "    ax.plot(sig_x, sig_y, 'k')\n",
    "    ax.set(xlabel=r'amplitude $a_x$', ylabel=r'amplitude $a_y$', xlim=(-1.0, 1.0), ylim=(-1.0, 1.0))\n",
    "    \n",
    "    \n",
    "    ax = fig.add_subplot(n_row, n_col, 3, projection='3d')\n",
    "    ax.plot(sig_x, z, np.zeros_like(sig_x), 'C0')\n",
    "    ax.plot(np.zeros_like(sig_y), z, sig_y, 'C1')\n",
    "    ax.plot(sig_x, z, sig_y, 'k')\n",
    "    ax.set(xlabel=r'$a_x$', ylabel='z', zlabel=r'$a_y$', xlim=(-1.0, 1.0), ylim=(-1.0, 1.0), zlim=(-1.0, 1.0))\n",
    "    \n",
    "    plt.tight_layout()\n",
    "    \n",
    "    "
   ]
  },
  {
   "cell_type": "code",
   "execution_count": 3,
   "metadata": {},
   "outputs": [
    {
     "data": {
      "application/vnd.jupyter.widget-view+json": {
       "model_id": "4e1c51eba57a456fa0689a361e4ac371",
       "version_major": 2,
       "version_minor": 0
      },
      "text/plain": [
       "HBox(children=(FloatSlider(value=1.0, continuous_update=False, description='$a_x$:', max=1.0), FloatSlider(val…"
      ]
     },
     "metadata": {},
     "output_type": "display_data"
    },
    {
     "data": {
      "application/vnd.jupyter.widget-view+json": {
       "model_id": "a1ab7c623e2846fea6d96e5f184f6c66",
       "version_major": 2,
       "version_minor": 0
      },
      "text/plain": [
       "Output(layout=Layout(height='600px'))"
      ]
     },
     "metadata": {},
     "output_type": "display_data"
    }
   ],
   "source": [
    "w_a_x = widgets.FloatSlider(min=0.0, max=1, step=0.1, value=1.0, continuous_update=False, description=r'$a_x$:')\n",
    "w_a_y = widgets.FloatSlider(min=0.0, max=1, step=0.1, value=0.0, continuous_update=False, description=r'$a_y$:')\n",
    "w_d_phi = widgets.FloatSlider(min=0.0, max=np.pi, step=np.pi/30, value=0.0, continuous_update=False, description=r'$\\Delta \\phi$:')\n",
    "\n",
    "ui = widgets.HBox([w_a_x, w_a_y, w_d_phi])\n",
    "\n",
    "out = widgets.interactive_output(plot_signal, {'a_x':w_a_x, 'a_y':w_a_y, 'd_phi':w_d_phi})\n",
    "out.layout.height = '600px'\n",
    "\n",
    "display(ui, out)"
   ]
  },
  {
   "cell_type": "code",
   "execution_count": null,
   "metadata": {},
   "outputs": [],
   "source": []
  }
 ],
 "metadata": {
  "kernelspec": {
   "display_name": "Python 3",
   "language": "python",
   "name": "python3"
  },
  "language_info": {
   "codemirror_mode": {
    "name": "ipython",
    "version": 3
   },
   "file_extension": ".py",
   "mimetype": "text/x-python",
   "name": "python",
   "nbconvert_exporter": "python",
   "pygments_lexer": "ipython3",
   "version": "3.7.6"
  }
 },
 "nbformat": 4,
 "nbformat_minor": 4
}
