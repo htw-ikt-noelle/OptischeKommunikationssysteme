{
 "cells": [
  {
   "cell_type": "markdown",
   "metadata": {},
   "source": [
    "# Comparison of the distortions caused by different transmission cables\n",
    "\n",
    "This demo visualizes the distortions caused by transmission of a [digital binary data signal](https://en.wikipedia.org/wiki/Digital_signal) over different cable types. \n",
    "\n",
    "This demo is written by [Markus Nölle](https://www.htw-berlin.de/hochschule/personen/person/?eid=9586) for a basic course on [optical communications](https://en.wikipedia.org/wiki/Optical_communication) hold at the [university of applied sciences, Berlin](https://www.htw-berlin.de/)."
   ]
  },
  {
   "cell_type": "markdown",
   "metadata": {},
   "source": [
    "## Import libararies"
   ]
  },
  {
   "cell_type": "code",
   "execution_count": 1,
   "metadata": {},
   "outputs": [],
   "source": [
    "import matplotlib.pyplot as plt\n",
    "import numpy as np\n",
    "import scipy.signal as signal\n",
    "import scipy as sp\n",
    "import ipywidgets as widgets\n",
    "\n",
    "plt.style.use('noelle.mplstyle')"
   ]
  },
  {
   "cell_type": "markdown",
   "metadata": {},
   "source": [
    "## Influence of transmission cables on the signal\n",
    "\n",
    "In this demo the influence of the transmission cable for all copper cables is emulated as simple amplitude [frequency response](https://en.wikipedia.org/wiki/Frequency_response), meaning a frequency dependent [attenuation](https://en.wikipedia.org/wiki/Attenuation) of the signal. This means that any potential [phase distortions](https://en.wikipedia.org/wiki/Phase_distortion) caused by the copper transmission lines are neglected.\n",
    "\n",
    "However, in the case of the optical fiber, the additional distorting effect of [chromatic dispersion](https://en.wikipedia.org/wiki/Dispersion_(optics)#Group_velocity_dispersion) is considered as well, resulting in an [allpass-like](https://en.wikipedia.org/wiki/All-pass_filter) characteristic of the optical fiber. A standard [single mode fiber](https://en.wikipedia.org/wiki/Single-mode_optical_fiber) with a frequency-invariant attenuation of 0.2 dB/km and a chromatic dispersion of 17 ps/km/nm is considered throughout this simulation. Any [higher order dispersion effects](https://en.wikipedia.org/wiki/Dispersion_(optics)#Higher-order_dispersion_over_broad_bandwidths) (e.g. dispersion slope) are neglected. \n",
    "\n",
    "Different cable types are considered in this demo. The following types, with increasing transmission performance are included\n",
    "* [Unshielded twisted pair cable](https://en.wikipedia.org/wiki/Twisted_pair#Unshielded_twisted_pair) of [categorie 3 (CAT3)](https://en.wikipedia.org/wiki/Category_3_cable), typically used for [10 Mbit/s Ethernet](https://en.wikipedia.org/wiki/Ethernet_over_twisted_pair)\n",
    "* [Unshielded twisted pair cable](https://en.wikipedia.org/wiki/Twisted_pair#Unshielded_twisted_pair) of [categorie 5 (CAT5)](https://en.wikipedia.org/wiki/Category_5_cable), typically used for [100 Mbit/s (of Fast) Ethernet](https://en.wikipedia.org/wiki/Fast_Ethernet#100BASE-TX)\n",
    "* [Fully shielded twisted pair cable](https://en.wikipedia.org/wiki/Twisted_pair#Cable_shielding) of [categorie 7 (CAT7)](https://en.wikipedia.org/wiki/ISO/IEC_11801#Category_7), typically used for up to [10 Gbit/s Ethernet](https://en.wikipedia.org/wiki/10_Gigabit_Ethernet#10GBASE-T)\n",
    "* [Coaxial cable](https://en.wikipedia.org/wiki/Coaxial_cable) of type RG-11\n",
    "* [Standard single mode optical fiber](https://en.wikipedia.org/wiki/Single-mode_optical_fiber)\n",
    "\n",
    "Besides the cable type, also the [symbol rate](https://en.wikipedia.org/wiki/Symbol_rate) of the signal and the transmission distance can be varied while the influence of these parameters on the output signal can be inspected.\n"
   ]
  },
  {
   "cell_type": "code",
   "execution_count": 2,
   "metadata": {
    "jupyter": {
     "source_hidden": true
    }
   },
   "outputs": [
    {
     "data": {
      "application/vnd.jupyter.widget-view+json": {
       "model_id": "e584d6e0344e4b3caf1f5f1f9f4d6aa6",
       "version_major": 2,
       "version_minor": 0
      },
      "text/plain": [
       "HBox(children=(Dropdown(description='symbol rate:', index=2, options=(('100 kBd', 100000.0), ('1 MBd', 1000000…"
      ]
     },
     "metadata": {},
     "output_type": "display_data"
    },
    {
     "data": {
      "application/vnd.jupyter.widget-view+json": {
       "model_id": "8957d9743e284128b6421f2f32649384",
       "version_major": 2,
       "version_minor": 0
      },
      "text/plain": [
       "Output(layout=Layout(height='300px'))"
      ]
     },
     "metadata": {},
     "output_type": "display_data"
    }
   ],
   "source": [
    "def distort_signal(symbol_rate=100e6, t_length=100, media='CAT7'):\n",
    "    # gen signal\n",
    "    n_symbols = 100\n",
    "    upsam = 16 # upsampling to upsam samples per symbol    \n",
    "    levels = 2 # number of amplitude levels\n",
    "    sample_rate = symbol_rate * upsam\n",
    "    \n",
    "    # time and frequency axis for simulation\n",
    "    t = np.arange(0, n_symbols*upsam)/sample_rate\n",
    "    f = np.fft.fftshift(np.fft.fftfreq(n_symbols*upsam, 1/sample_rate))\n",
    "\n",
    "    # generate symbols\n",
    "    np.random.seed(1)\n",
    "    sig = np.random.randint(low=0, high=levels, size=n_symbols)\n",
    "    # #sig = (sig - ((levels-1)/2)) .* 2\n",
    "\n",
    "    # upsampling\n",
    "    sig = signal.upfirdn(np.ones(upsam), sig, up=upsam)\n",
    "    \n",
    "    # twisted pair CAT7 cable\n",
    "    # taken from https://www.intelek.cz/db/repository.nsf/v/492C756CDCA9CBCFC125735C004A1883/$file/Datasheet_RiT_horizontal_cable_CAT7_STP.pdf\n",
    "    f_CAT7_coarse = np.array([1e6, 4e6, 10e6, 16e6, 20e6, 31.25e6, 62.5e6, 100e6, 175e6, 200e6, 300e6, 600e6])\n",
    "    # attenuation in dB per meter\n",
    "    H_CAT7_dB_coarse = -1 * np.array([1.7, 3.3, 5.2, 6.7, 7.5, 9.5, 13.3, 17.5, 23.1, 24.2, 31, 42.5]) / 100 \n",
    "    # construct values for negative frequencies\n",
    "    f_CAT7_coarse = np.hstack([-np.flip(f_CAT7_coarse), f_CAT7_coarse])\n",
    "    H_CAT7_dB_coarse = np.hstack([np.flip(H_CAT7_dB_coarse), H_CAT7_dB_coarse]) * t_length\n",
    "    # interpolate to new frequency axis\n",
    "    interpolate =  sp.interpolate.interp1d(f_CAT7_coarse, H_CAT7_dB_coarse, kind='linear', bounds_error=False, fill_value='extrapolate')\n",
    "    H_CAT7_dB = interpolate(f) \n",
    "    H_CAT7 = 10**(H_CAT7_dB/20)\n",
    "    \n",
    "    #  twisted pair CAT3 cable\n",
    "    # taken from http://www.comcables.com/templates/product-pdf/BC-C3PVC-3PR-WHT.pdf\n",
    "    f_CAT3_coarse = np.array([0.772, 1, 4, 8, 10, 16])*1e6\n",
    "    # attenuation in dB per meter\n",
    "    H_CAT3_dB_coarse = -1 * np.array([2.2, 2.6, 5.6, 8.5, 9.7, 13.1]) / 100 \n",
    "    # construct values for negative frequencies\n",
    "    f_CAT3_coarse = np.hstack([-np.flip(f_CAT3_coarse), f_CAT3_coarse])\n",
    "    H_CAT3_dB_coarse = np.hstack([np.flip(H_CAT3_dB_coarse), H_CAT3_dB_coarse]) * t_length\n",
    "    # interpolate to new frequency axis\n",
    "    interpolate =  sp.interpolate.interp1d(f_CAT3_coarse, H_CAT3_dB_coarse, kind='linear', bounds_error=False, fill_value='extrapolate')\n",
    "    H_CAT3_dB = interpolate(f) \n",
    "    H_CAT3 = 10**(H_CAT3_dB/20)    \n",
    "    \n",
    "    #  twisted pair CAT5 cable\n",
    "    # taken from http://www.farnell.com/datasheets/1311845.pdf\n",
    "    f_CAT5_coarse = np.array([1, 4, 10, 16, 20, 31.25, 62.5, 100])*1e6\n",
    "    # attenuation in dB per meter\n",
    "    H_CAT5_dB_coarse = -1 * np.array([0.3, 0.6, 1, 1.2, 1.4, 1.8, 2.6, 3.3]) / 10 \n",
    "    # construct values for negative frequencies\n",
    "    f_CAT5_coarse = np.hstack([-np.flip(f_CAT5_coarse), f_CAT5_coarse])\n",
    "    H_CAT5_dB_coarse = np.hstack([np.flip(H_CAT5_dB_coarse), H_CAT5_dB_coarse]) * t_length\n",
    "    # interpolate to new frequency axis\n",
    "    interpolate =  sp.interpolate.interp1d(f_CAT5_coarse, H_CAT5_dB_coarse, kind='linear', bounds_error=False, fill_value='extrapolate')\n",
    "    H_CAT5_dB = interpolate(f) \n",
    "    H_CAT5 = 10**(H_CAT5_dB/20)    \n",
    "    \n",
    "    # coax cable RG-11\n",
    "    # taken from http://rfelektronik.se/manuals/Datasheets/Coaxial_Cable_Attenuation_Chart.pdf\n",
    "    f_coax_coarse = np.array([1e6, 10e6, 50e6, 100e6, 200e6, 400e6, 700e6, 900e6, 1e9])\n",
    "    # attenuation in dB per meter\n",
    "    H_coax_dB_coarse = -1 * np.array([0.14, 0.42, 1.0, 1.5, 2.2, 3.5, 4.1, 5.2, 6.6]) / 30.5 # 100 feet\n",
    "    # construct values for negative frequencies\n",
    "    f_coax_coarse = np.hstack([-np.flip(f_coax_coarse), f_coax_coarse])\n",
    "    H_coax_dB_coarse = np.hstack([np.flip(H_coax_dB_coarse), H_coax_dB_coarse]) * t_length\n",
    "    # interpolate to new frequency axis\n",
    "    interpolate =  sp.interpolate.interp1d(f_coax_coarse, H_coax_dB_coarse, kind='linear', bounds_error=False, fill_value='extrapolate')\n",
    "    H_coax_dB = interpolate(f) \n",
    "    H_coax = 10**(H_coax_dB/20)\n",
    "    \n",
    "    \n",
    "    # optical fiber        \n",
    "    # attenuation assumed to be fixed over 100 Gb/s\n",
    "    f_fiber_coarse = np.array([1e6, 1e9, 10e9, 100e9])\n",
    "    # attenuation in dB per meter\n",
    "    H_fiber_dB_coarse = -1 * np.array([0.2, 0.2, 0.2, 0.2]) / 1000\n",
    "    # construct values for negative frequencies\n",
    "    f_fiber_coarse = np.hstack([-np.flip(f_fiber_coarse), f_fiber_coarse])\n",
    "    H_fiber_dB_coarse = np.hstack([np.flip(H_fiber_dB_coarse), H_fiber_dB_coarse]) * t_length\n",
    "    # interpolate to new frequency axis\n",
    "    interpolate =  sp.interpolate.interp1d(f_fiber_coarse, H_fiber_dB_coarse, kind='linear', bounds_error=False, fill_value='extrapolate')\n",
    "    H_fiber_dB = interpolate(f) \n",
    "    H_fiber = 10**(H_fiber_dB/20) \n",
    "\n",
    "    \n",
    "    if media=='CAT7':\n",
    "        H = H_CAT7   \n",
    "        H_dB = H_CAT7_dB\n",
    "    elif media=='CAT3':\n",
    "        H = H_CAT3   \n",
    "        H_dB = H_CAT3_dB\n",
    "    elif media=='CAT5':\n",
    "        H = H_CAT5   \n",
    "        H_dB = H_CAT5_dB\n",
    "    elif media=='coax':\n",
    "        H = H_coax   \n",
    "        H_dB = H_coax_dB\n",
    "    elif media=='fiber':\n",
    "        H = H_fiber   \n",
    "        H_dB = H_fiber_dB\n",
    "    elif media=='fiber with CD':\n",
    "        # add dispersion\n",
    "        c0 = 2.99792458e8 # speed of light in vacuum [m/s]\n",
    "        ref_wavelength = 1550e-9 # referency (signal) wavelength\n",
    "        b2 = -ref_wavelength**2 / (2 * np.pi * c0) *  17e-6 # second deviatin of beta after the frequency (dispersion [s^2/m])\n",
    "        w = 2 * np.pi * f # angular frequency\n",
    "        beta = 0.5 * b2 * w**2\n",
    "        H_fiber = H_fiber.astype(np.complex128) * np.exp(-1j * beta * t_length)\n",
    "        H = H_fiber   \n",
    "        H_dB = H_fiber_dB    \n",
    "    else:\n",
    "        raise ValueError('media unknown...')\n",
    "    \n",
    "    # calc output (distorted) signal\n",
    "    sig_distorted = np.abs(np.fft.ifft(np.fft.ifftshift(np.fft.fftshift(np.fft.fft(sig)) * H)))\n",
    "    \n",
    "    # plotting\n",
    "    n_row = 1\n",
    "    n_col = 3\n",
    "    fig_size = [i*j for i,j in zip(plt.rcParams['figure.figsize'], [n_col, n_row])]\n",
    "    fig = plt.figure(figsize=fig_size)\n",
    "    \n",
    "    ax = fig.add_subplot(n_row, n_col, 1)\n",
    "    ax.plot(f/1e6, H_CAT7_dB,color=(0.5,0.5,0.5))\n",
    "    ax.plot(f/1e6, H_CAT3_dB,color=(0.5,0.5,0.5))\n",
    "    ax.plot(f/1e6, H_CAT5_dB,color=(0.5,0.5,0.5))\n",
    "    ax.plot(f/1e6, H_coax_dB,color=(0.5,0.5,0.5))\n",
    "    ax.plot(f/1e6, H_fiber_dB,color=(0.5,0.5,0.5))\n",
    "    ax.plot(f/1e6, H_dB,'C0')\n",
    "    ax.set(xlabel='frequency / MHz', xlim=(-2*symbol_rate/1e6,2*symbol_rate/1e6), ylim=(-20, 0), ylabel='attenuation / dB')\n",
    "        \n",
    "    ax = fig.add_subplot(n_row, n_col, 2)\n",
    "    ax.plot(t*1e6, sig, t*1e6, sig_distorted)\n",
    "    ax.set(xlim=(0,20/symbol_rate*1e6), xlabel='time / µs', ylim=(0, 1.1), ylabel='amplitude / a.u.')\n",
    "    ax.legend(('input signal','output signal'))\n",
    "    \n",
    "    ax = fig.add_subplot(n_row, n_col, 3)\n",
    "    ax.plot(t[0:2*upsam]*1e6, np.reshape(np.abs(sig_distorted), (-1, 2*upsam)).T, color='C1')\n",
    "    ax.set(xlim=(0,2/symbol_rate*1e6), xlabel='time / µs', ylim=(0, 1.1), ylabel='amplitude / a.u.')\n",
    "\n",
    "# widgets\n",
    "w_symbol_rate = widgets.Dropdown(options=[('100 kBd',100e3), ('1 MBd',1.0e6), ('10 MBd',10.0e6), ('100 MBd',100.0e6), ('1 GBd',1.0e9), ('10 GBd',10.0e9), ('100 GBd',100.0e9)], value=10.0e6, description='symbol rate:', disabled=False)\n",
    "w_t_length = widgets.Dropdown(options=[('1 m',1.0), ('10 m',10.0), ('50 m',50.0), ('100 m',100.0), ('500 m',500.0), ('1 km',1e3), ('5 km',5e3), ('10 km',10e3), ('50 km',50e3), ('100 km',100e3)], value=10.0, description='distance:', disabled=False)\n",
    "w_media = widgets.Dropdown(options=['CAT3', 'CAT5', 'CAT7', 'coax', 'fiber', 'fiber with CD'], value='CAT5', description='media type:', disabled=False)\n",
    "\n",
    "ui = widgets.HBox([w_symbol_rate, w_t_length, w_media])\n",
    "\n",
    "out = widgets.interactive_output(distort_signal, {'symbol_rate':w_symbol_rate, 't_length':w_t_length, 'media':w_media})\n",
    "out.layout.height = '300px'\n",
    "\n",
    "display(ui, out)"
   ]
  },
  {
   "cell_type": "code",
   "execution_count": null,
   "metadata": {},
   "outputs": [],
   "source": []
  }
 ],
 "metadata": {
  "kernelspec": {
   "display_name": "Python 3",
   "language": "python",
   "name": "python3"
  },
  "language_info": {
   "codemirror_mode": {
    "name": "ipython",
    "version": 3
   },
   "file_extension": ".py",
   "mimetype": "text/x-python",
   "name": "python",
   "nbconvert_exporter": "python",
   "pygments_lexer": "ipython3",
   "version": "3.7.6"
  }
 },
 "nbformat": 4,
 "nbformat_minor": 4
}
